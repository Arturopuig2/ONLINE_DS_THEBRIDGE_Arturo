{
 "cells": [
  {
   "cell_type": "code",
   "execution_count": 1,
   "id": "345a88c2-5a7b-4264-b0d2-6f082071bb48",
   "metadata": {},
   "outputs": [
    {
     "name": "stdout",
     "output_type": "stream",
     "text": [
      "Hola Mundo\n"
     ]
    }
   ],
   "source": [
    "print(\"Hola Mundo\")"
   ]
  },
  {
   "cell_type": "markdown",
   "id": "c027ef12-de0f-4e68-8f58-7ba879ea3a6b",
   "metadata": {},
   "source": [
    "Hola, Arturo. Soy Mundo, qué quieres?"
   ]
  },
  {
   "cell_type": "code",
   "execution_count": 2,
   "id": "0c340951-d0ac-4bd2-b6f4-f4f232fb6341",
   "metadata": {},
   "outputs": [
    {
     "name": "stdout",
     "output_type": "stream",
     "text": [
      "5\n"
     ]
    }
   ],
   "source": [
    "print(3+2)"
   ]
  },
  {
   "cell_type": "code",
   "execution_count": 1,
   "id": "972ffc70-dd66-43e1-9b94-86bfe25812ee",
   "metadata": {},
   "outputs": [
    {
     "name": "stdout",
     "output_type": "stream",
     "text": [
      "25\n"
     ]
    }
   ],
   "source": [
    "print(5*5)"
   ]
  },
  {
   "cell_type": "code",
   "execution_count": null,
   "id": "2d9df7a9-8ee3-4b3f-a543-efbee31a892d",
   "metadata": {},
   "outputs": [],
   "source": []
  }
 ],
 "metadata": {
  "kernelspec": {
   "display_name": "Python 3 (ipykernel)",
   "language": "python",
   "name": "python3"
  },
  "language_info": {
   "codemirror_mode": {
    "name": "ipython",
    "version": 3
   },
   "file_extension": ".py",
   "mimetype": "text/x-python",
   "name": "python",
   "nbconvert_exporter": "python",
   "pygments_lexer": "ipython3",
   "version": "3.13.3"
  }
 },
 "nbformat": 4,
 "nbformat_minor": 5
}
