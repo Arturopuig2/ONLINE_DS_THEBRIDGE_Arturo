{
 "cells": [
  {
   "cell_type": "markdown",
   "metadata": {},
   "source": [
    "![imagen](./img/ejercicios.png)"
   ]
  },
  {
   "cell_type": "markdown",
   "metadata": {},
   "source": [
    "## Ejercicio 1\n",
    "Importa el módulo de `numpy` y obtén su versión."
   ]
  },
  {
   "cell_type": "code",
   "execution_count": 44,
   "metadata": {},
   "outputs": [
    {
     "name": "stdout",
     "output_type": "stream",
     "text": [
      "2.3.3\n"
     ]
    }
   ],
   "source": [
    "import numpy as np\n",
    "print(np.__version__)"
   ]
  },
  {
   "cell_type": "markdown",
   "metadata": {},
   "source": [
    "## Ejercicio 2\n",
    "Crea un array de una dimensión que vaya de 0 a 9. Llamalo `my_array`"
   ]
  },
  {
   "cell_type": "code",
   "execution_count": 55,
   "metadata": {},
   "outputs": [
    {
     "name": "stdout",
     "output_type": "stream",
     "text": [
      "[0 1 2 3 4 5 6 7 8 9]\n"
     ]
    }
   ],
   "source": [
    "import numpy as np\n",
    "my_array=np.arange(10)\n",
    "print(my_array)"
   ]
  },
  {
   "cell_type": "markdown",
   "metadata": {},
   "source": [
    "## Ejercicio 3\n",
    "Crea un array 3x3, que sea todo a True"
   ]
  },
  {
   "cell_type": "code",
   "execution_count": 58,
   "metadata": {},
   "outputs": [
    {
     "name": "stdout",
     "output_type": "stream",
     "text": [
      "[[ True  True  True]\n",
      " [ True  True  True]\n",
      " [ True  True  True]]\n"
     ]
    }
   ],
   "source": [
    "arrageTrue=np.full((3,3),True)\n",
    "print(arrageTrue)"
   ]
  },
  {
   "cell_type": "markdown",
   "metadata": {},
   "source": [
    "## Ejercicio 4\n",
    "Extrae todos los impares de `my_array`"
   ]
  },
  {
   "cell_type": "code",
   "execution_count": 66,
   "metadata": {},
   "outputs": [
    {
     "name": "stdout",
     "output_type": "stream",
     "text": [
      "[0 1 2 3 4 5 6 7 8 9]\n"
     ]
    }
   ],
   "source": [
    "print(my_array[::])"
   ]
  },
  {
   "cell_type": "code",
   "execution_count": 63,
   "metadata": {},
   "outputs": [
    {
     "name": "stdout",
     "output_type": "stream",
     "text": [
      "[1 3 5 7 9]\n"
     ]
    }
   ],
   "source": [
    "print(my_array[1::2])"
   ]
  },
  {
   "cell_type": "markdown",
   "metadata": {},
   "source": [
    "## Ejercicio 5\n",
    "En un nuevo array, sustituye todos los impares de `my_array` por -1"
   ]
  },
  {
   "cell_type": "code",
   "execution_count": 123,
   "metadata": {},
   "outputs": [
    {
     "name": "stdout",
     "output_type": "stream",
     "text": [
      "[0 1 2 3 4 5 6 7 8 9]\n",
      "[0 1 2 3 4 5 6 7 8 9]\n",
      "[ 0 -1  2 -1  4 -1  6 -1  8 -1]\n"
     ]
    }
   ],
   "source": [
    "array=np.arange(10)\n",
    "print(array)\n",
    "nuevo_array=my_array.copy()\n",
    "print(nuevo_array)\n",
    "\n",
    "def sustituir(array,array_copy):\n",
    "    for i in array:\n",
    "        if array[i]%2==1:\n",
    "            array_copy[i] = -1\n",
    "    resultado=array_copy\n",
    "    return resultado\n",
    "\n",
    "nuevo_array=sustituir(my_array,nuevo_array)\n",
    "print(nuevo_array)\n"
   ]
  },
  {
   "cell_type": "markdown",
   "metadata": {},
   "source": [
    "## Ejercicio 6\n",
    "En un nuevo array, sustituye todos los impares de `my_array` por -1. Esta vez usa `where`"
   ]
  },
  {
   "cell_type": "code",
   "execution_count": 130,
   "metadata": {},
   "outputs": [
    {
     "name": "stdout",
     "output_type": "stream",
     "text": [
      "[0 1 2 3 4 5 6 7 8 9]\n",
      "[0 1 2 3 4 5 6 7 8 9]\n",
      "[ 0 -1  2 -1  4 -1  6 -1  8 -1]\n"
     ]
    }
   ],
   "source": [
    "print(my_array)\n",
    "copy_my_array=my_array.copy()\n",
    "print(copy_my_array)\n",
    "\n",
    "copy_my_array=np.where(my_array%2==1,-1,my_array)\n",
    "print(copy_my_array)\n"
   ]
  },
  {
   "cell_type": "markdown",
   "metadata": {},
   "source": [
    "## Ejercicio 7\n",
    "Convierte `my_array` en un nuevo array de dos dimensiones mediante `reshape`."
   ]
  },
  {
   "cell_type": "code",
   "execution_count": null,
   "metadata": {},
   "outputs": [
    {
     "name": "stdout",
     "output_type": "stream",
     "text": [
      "[[0 1 2 3 4]\n",
      " [5 6 7 8 9]]\n"
     ]
    }
   ],
   "source": [
    "my_array_2d=np.reshape(my_array,(2,-1))\n",
    "print(my_array_2d)"
   ]
  },
  {
   "cell_type": "markdown",
   "metadata": {},
   "source": [
    "## Ejercicio 8\n",
    "Concatena los siguientes arrays verticamente\n",
    "\n",
    "```Python\n",
    "a = np.arange(10).reshape(2,-1)\n",
    "b = np.repeat(1, 10).reshape(2,-1)\n",
    "```"
   ]
  },
  {
   "cell_type": "code",
   "execution_count": 168,
   "metadata": {},
   "outputs": [
    {
     "name": "stdout",
     "output_type": "stream",
     "text": [
      "[[0 1 2 3 4]\n",
      " [5 6 7 8 9]]\n",
      "**********\n",
      "[[1 1 1 1 1]\n",
      " [1 1 1 1 1]]\n",
      "**********\n",
      "Concatena por filas: verticalmente\n",
      "[[0 1 2 3 4]\n",
      " [5 6 7 8 9]\n",
      " [1 1 1 1 1]\n",
      " [1 1 1 1 1]]\n"
     ]
    }
   ],
   "source": [
    "a = np.arange(10).reshape(2,-1)\n",
    "print(a)\n",
    "print(\"*\"*10)\n",
    "\n",
    "b = np.repeat(1, 10).reshape(2,-1)\n",
    "print(b)\n",
    "print(\"*\"*10)\n",
    "\n",
    "print(\"Concatena por filas: verticalmente\")\n",
    "h=np.concatenate((a,b),axis=0)\n",
    "print(h)"
   ]
  },
  {
   "cell_type": "code",
   "execution_count": null,
   "metadata": {},
   "outputs": [],
   "source": []
  },
  {
   "cell_type": "code",
   "execution_count": null,
   "metadata": {},
   "outputs": [],
   "source": []
  },
  {
   "cell_type": "markdown",
   "metadata": {},
   "source": [
    "## Ejercicio 9\n",
    "Concatena los siguientes arrays horizontamente\n",
    "\n",
    "```Python\n",
    "a = np.arange(10).reshape(2,-1)\n",
    "b = np.repeat(1, 10).reshape(2,-1)\n",
    "```"
   ]
  },
  {
   "cell_type": "code",
   "execution_count": 169,
   "metadata": {},
   "outputs": [
    {
     "name": "stdout",
     "output_type": "stream",
     "text": [
      "[[0 1 2 3 4]\n",
      " [5 6 7 8 9]]\n",
      "**********\n",
      "[[1 1 1 1 1]\n",
      " [1 1 1 1 1]]\n",
      "**********\n",
      "Concatena por columnas = horizontalmente\n",
      "[[0 1 2 3 4 1 1 1 1 1]\n",
      " [5 6 7 8 9 1 1 1 1 1]]\n"
     ]
    }
   ],
   "source": [
    "a = np.arange(10).reshape(2,-1)\n",
    "print(a)\n",
    "print(\"*\"*10)\n",
    "b = np.repeat(1, 10).reshape(2,-1)\n",
    "print(b)\n",
    "print(\"*\"*10)\n",
    "print(\"Concatena por columnas = horizontalmente\")\n",
    "v=np.concatenate((a,b),axis=1)\n",
    "print(v)"
   ]
  },
  {
   "cell_type": "markdown",
   "metadata": {},
   "source": [
    "## Ejercicio 10\n",
    "Encuentra todos los elementos en común entre ambos arrays. [Para ello usa el método `intersect1d`](https://numpy.org/doc/stable/reference/generated/numpy.intersect1d.html)\n",
    "\n",
    "```Python\n",
    "a = np.array([1,2,3,2,3,4,3,4,5,6])\n",
    "b = np.array([7,2,10,2,7,4,9,4,9,8])\n",
    "```"
   ]
  },
  {
   "cell_type": "code",
   "execution_count": 173,
   "metadata": {},
   "outputs": [
    {
     "name": "stdout",
     "output_type": "stream",
     "text": [
      "[2 4]\n"
     ]
    }
   ],
   "source": [
    "a = np.array([1,2,3,2,3,4,3,4,5,6])\n",
    "b = np.array([7,2,10,2,7,4,9,4,9,8])\n",
    "comunes=np.intersect1d(a,b)\n",
    "print(comunes)"
   ]
  },
  {
   "cell_type": "markdown",
   "metadata": {},
   "source": [
    "## Ejercicio 11\n",
    "Obtén la documentación acerca de la función `concatenate`"
   ]
  },
  {
   "cell_type": "code",
   "execution_count": null,
   "metadata": {},
   "outputs": [
    {
     "name": "stdout",
     "output_type": "stream",
     "text": [
      "\u001b[31mSignature:\u001b[39m       np.intersect1d(ar1, ar2, assume_unique=\u001b[38;5;28;01mFalse\u001b[39;00m, return_indices=\u001b[38;5;28;01mFalse\u001b[39;00m)\n",
      "\u001b[31mCall signature:\u001b[39m  np.intersect1d(*args, **kwargs)\n",
      "\u001b[31mType:\u001b[39m            _ArrayFunctionDispatcher\n",
      "\u001b[31mString form:\u001b[39m     <function intersect1d at 0x109583240>\n",
      "\u001b[31mFile:\u001b[39m            /Library/Frameworks/Python.framework/Versions/3.11/lib/python3.11/site-packages/numpy/lib/_arraysetops_impl.py\n",
      "\u001b[31mDocstring:\u001b[39m      \n",
      "Find the intersection of two arrays.\n",
      "\n",
      "Return the sorted, unique values that are in both of the input arrays.\n",
      "\n",
      "Parameters\n",
      "----------\n",
      "ar1, ar2 : array_like\n",
      "    Input arrays. Will be flattened if not already 1D.\n",
      "assume_unique : bool\n",
      "    If True, the input arrays are both assumed to be unique, which\n",
      "    can speed up the calculation.  If True but ``ar1`` or ``ar2`` are not\n",
      "    unique, incorrect results and out-of-bounds indices could result.\n",
      "    Default is False.\n",
      "return_indices : bool\n",
      "    If True, the indices which correspond to the intersection of the two\n",
      "    arrays are returned. The first instance of a value is used if there are\n",
      "    multiple. Default is False.\n",
      "\n",
      "Returns\n",
      "-------\n",
      "intersect1d : ndarray\n",
      "    Sorted 1D array of common and unique elements.\n",
      "comm1 : ndarray\n",
      "    The indices of the first occurrences of the common values in `ar1`.\n",
      "    Only provided if `return_indices` is True.\n",
      "comm2 : ndarray\n",
      "    The indices of the first occurrences of the common values in `ar2`.\n",
      "    Only provided if `return_indices` is True.\n",
      "\n",
      "Examples\n",
      "--------\n",
      ">>> import numpy as np\n",
      ">>> np.intersect1d([1, 3, 4, 3], [3, 1, 2, 1])\n",
      "array([1, 3])\n",
      "\n",
      "To intersect more than two arrays, use functools.reduce:\n",
      "\n",
      ">>> from functools import reduce\n",
      ">>> reduce(np.intersect1d, ([1, 3, 4, 3], [3, 1, 2, 1], [6, 3, 4, 2]))\n",
      "array([3])\n",
      "\n",
      "To return the indices of the values common to the input arrays\n",
      "along with the intersected values:\n",
      "\n",
      ">>> x = np.array([1, 1, 2, 3, 4])\n",
      ">>> y = np.array([2, 1, 4, 6])\n",
      ">>> xy, x_ind, y_ind = np.intersect1d(x, y, return_indices=True)\n",
      ">>> x_ind, y_ind\n",
      "(array([0, 2, 4]), array([1, 0, 2]))\n",
      ">>> xy, x[x_ind], y[y_ind]\n",
      "(array([1, 2, 4]), array([1, 2, 4]), array([1, 2, 4]))\n",
      "\u001b[31mClass docstring:\u001b[39m\n",
      "Class to wrap functions with checks for __array_function__ overrides.\n",
      "\n",
      "All arguments are required, and can only be passed by position.\n",
      "\n",
      "Parameters\n",
      "----------\n",
      "dispatcher : function or None\n",
      "    The dispatcher function that returns a single sequence-like object\n",
      "    of all arguments relevant.  It must have the same signature (except\n",
      "    the default values) as the actual implementation.\n",
      "    If ``None``, this is a ``like=`` dispatcher and the\n",
      "    ``_ArrayFunctionDispatcher`` must be called with ``like`` as the\n",
      "    first (additional and positional) argument.\n",
      "implementation : function\n",
      "    Function that implements the operation on NumPy arrays without\n",
      "    overrides.  Arguments passed calling the ``_ArrayFunctionDispatcher``\n",
      "    will be forwarded to this (and the ``dispatcher``) as if using\n",
      "    ``*args, **kwargs``.\n",
      "\n",
      "Attributes\n",
      "----------\n",
      "_implementation : function\n",
      "    The original implementation passed in."
     ]
    }
   ],
   "source": [
    "np.intersect1d?\n"
   ]
  },
  {
   "cell_type": "code",
   "execution_count": 175,
   "metadata": {},
   "outputs": [
    {
     "name": "stdout",
     "output_type": "stream",
     "text": [
      "Help on _ArrayFunctionDispatcher in module numpy:\n",
      "\n",
      "intersect1d(ar1, ar2, assume_unique=False, return_indices=False)\n",
      "    Find the intersection of two arrays.\n",
      "    \n",
      "    Return the sorted, unique values that are in both of the input arrays.\n",
      "    \n",
      "    Parameters\n",
      "    ----------\n",
      "    ar1, ar2 : array_like\n",
      "        Input arrays. Will be flattened if not already 1D.\n",
      "    assume_unique : bool\n",
      "        If True, the input arrays are both assumed to be unique, which\n",
      "        can speed up the calculation.  If True but ``ar1`` or ``ar2`` are not\n",
      "        unique, incorrect results and out-of-bounds indices could result.\n",
      "        Default is False.\n",
      "    return_indices : bool\n",
      "        If True, the indices which correspond to the intersection of the two\n",
      "        arrays are returned. The first instance of a value is used if there are\n",
      "        multiple. Default is False.\n",
      "    \n",
      "    Returns\n",
      "    -------\n",
      "    intersect1d : ndarray\n",
      "        Sorted 1D array of common and unique elements.\n",
      "    comm1 : ndarray\n",
      "        The indices of the first occurrences of the common values in `ar1`.\n",
      "        Only provided if `return_indices` is True.\n",
      "    comm2 : ndarray\n",
      "        The indices of the first occurrences of the common values in `ar2`.\n",
      "        Only provided if `return_indices` is True.\n",
      "    \n",
      "    Examples\n",
      "    --------\n",
      "    >>> import numpy as np\n",
      "    >>> np.intersect1d([1, 3, 4, 3], [3, 1, 2, 1])\n",
      "    array([1, 3])\n",
      "    \n",
      "    To intersect more than two arrays, use functools.reduce:\n",
      "    \n",
      "    >>> from functools import reduce\n",
      "    >>> reduce(np.intersect1d, ([1, 3, 4, 3], [3, 1, 2, 1], [6, 3, 4, 2]))\n",
      "    array([3])\n",
      "    \n",
      "    To return the indices of the values common to the input arrays\n",
      "    along with the intersected values:\n",
      "    \n",
      "    >>> x = np.array([1, 1, 2, 3, 4])\n",
      "    >>> y = np.array([2, 1, 4, 6])\n",
      "    >>> xy, x_ind, y_ind = np.intersect1d(x, y, return_indices=True)\n",
      "    >>> x_ind, y_ind\n",
      "    (array([0, 2, 4]), array([1, 0, 2]))\n",
      "    >>> xy, x[x_ind], y[y_ind]\n",
      "    (array([1, 2, 4]), array([1, 2, 4]), array([1, 2, 4]))\n",
      "\n"
     ]
    }
   ],
   "source": [
    "help(np.intersect1d)"
   ]
  },
  {
   "cell_type": "markdown",
   "metadata": {},
   "source": [
    "## Ejercicio 12\n",
    "Crea un array unidimensional que vaya del 0 al 9. Llámalo `my_array`. \n",
    "1. Multiplica cada uno de los elementos de `my_array` por 10, en un nuevo array\n",
    "2. Accede al primer elemento del array\n",
    "3. Accede al último elemento del array\n",
    "4. Imprime por pantalla los numeros del 1 al 7"
   ]
  },
  {
   "cell_type": "code",
   "execution_count": null,
   "metadata": {},
   "outputs": [
    {
     "name": "stdout",
     "output_type": "stream",
     "text": [
      "[1 2 3 4 5 6 7 8 9]\n",
      "[10 20 30 40 50 60 70 80 90]\n",
      "1\n",
      "9\n",
      "[1 2 3 4 5 6 7]\n"
     ]
    }
   ],
   "source": [
    "my_array=np.arange(start=1,stop=10,step=1)\n",
    "print(my_array)\n",
    "my_array10=my_array*10\n",
    "print(my_array10)\n",
    "print(my_array[0])\n",
    "print(my_array[-1])\n",
    "print(my_array[0:7])"
   ]
  },
  {
   "cell_type": "markdown",
   "metadata": {},
   "source": [
    "## Ejercicio 13\n",
    "Crea un array manualmente de tres filas por tres columnas. Llámalo `my_matrix`"
   ]
  },
  {
   "cell_type": "code",
   "execution_count": 197,
   "metadata": {},
   "outputs": [
    {
     "name": "stdout",
     "output_type": "stream",
     "text": [
      "[[1 2 3]\n",
      " [4 5 6]\n",
      " [7 8 9]]\n"
     ]
    }
   ],
   "source": [
    "my_matrix = np.array([ [1, 2, 3],[4, 5, 6],[7, 8, 9]])\n",
    "my_matrix\n",
    "print(my_matrix)"
   ]
  },
  {
   "cell_type": "markdown",
   "metadata": {},
   "source": [
    "## Ejercicio 14\n",
    "Obtén la siguiente secuencia:\n",
    "\n",
    "```Python\n",
    "[ 1,  4,  7, 10, 13, 16, 19, 22, 25, 28, 31, 34, 37, 40, 43, 46, 49]\n",
    "```"
   ]
  },
  {
   "cell_type": "code",
   "execution_count": 214,
   "metadata": {},
   "outputs": [
    {
     "name": "stdout",
     "output_type": "stream",
     "text": [
      "[ 1  4  7 10 13 16 19 22 25 28 31 34 37 40 43 46 49]\n",
      "[1, 4, 7, 10, 13, 16, 19, 22, 25, 28, 31, 34, 37, 40, 43, 46, 49]\n"
     ]
    }
   ],
   "source": [
    "my_secuencia=np.arange(start=1,stop=50, step=3)\n",
    "print(my_secuencia)\n",
    "print((my_secuencia.tolist()))"
   ]
  },
  {
   "cell_type": "markdown",
   "metadata": {},
   "source": [
    "## Ejercicio 15\n",
    "Obtén la siguiente secuencia\n",
    "\n",
    "```Python\n",
    "[4., 3.75, 3.5 , 3.25, 3.  , 2.75, 2.5 , 2.25, 2., 1.75, 1.5 ,1.25]\n",
    "```"
   ]
  },
  {
   "cell_type": "code",
   "execution_count": 229,
   "metadata": {},
   "outputs": [
    {
     "name": "stdout",
     "output_type": "stream",
     "text": [
      "[ 4.    3.75  3.5   3.25  3.    2.75  2.5   2.25  2.    1.75  1.5   1.25\n",
      "  1.    0.75  0.5   0.25  0.   -0.25 -0.5  -0.75]\n"
     ]
    }
   ],
   "source": [
    "my_secuencia=np.arange(start=4,stop=-1,step=-0.25)\n",
    "print(my_secuencia)"
   ]
  },
  {
   "cell_type": "markdown",
   "metadata": {},
   "source": [
    "## Ejercicio 16\n",
    "Lee la imagen \"numpy.png\""
   ]
  },
  {
   "cell_type": "code",
   "execution_count": null,
   "metadata": {},
   "outputs": [
    {
     "data": {
      "image/png": "[encoded data removed]",
      "text/plain": [
       "<Figure size 640x480 with 1 Axes>"
      ]
     },
     "metadata": {},
     "output_type": "display_data"
    }
   ],
   "source": [
    "import matplotlib.pyplot as plt\n",
    "img = plt.imread(\"/Users/arturo/Pruebas/repoClase/2509_dsft_thebridge_valencia/2_data_analysis/1_Numpy/Practica/numpy.png\")\n",
    "plt.imshow(img)\n",
    "plt.axis(\"off\")   # quita los ejes\n",
    "plt.show()"
   ]
  },
  {
   "cell_type": "markdown",
   "metadata": {},
   "source": [
    "## Ejercicio 17\n",
    "Crea un array de 4x1. A continuación convierte el array a un 2x2"
   ]
  },
  {
   "cell_type": "code",
   "execution_count": 251,
   "metadata": {},
   "outputs": [
    {
     "name": "stdout",
     "output_type": "stream",
     "text": [
      "[[1]\n",
      " [2]\n",
      " [3]\n",
      " [4]]\n",
      "----------\n",
      "[[1 2]\n",
      " [3 4]]\n"
     ]
    }
   ],
   "source": [
    "array4=np.array([[1],[2],[3],[4]])\n",
    "print(array4)\n",
    "print(\"-\"*10)\n",
    "new_array4=np.reshape(array4,(2,2))\n",
    "print(new_array4)\n"
   ]
  },
  {
   "cell_type": "markdown",
   "metadata": {},
   "source": [
    "## Ejercicio 18\n",
    "Crea una secuencia aleatoria. La secuencia se tiene que componer de 4 matrices de 5x3. Serían 3 dimensiones diferentes."
   ]
  },
  {
   "cell_type": "code",
   "execution_count": null,
   "metadata": {},
   "outputs": [
    {
     "name": "stdout",
     "output_type": "stream",
     "text": [
      "[[[36 81 63]\n",
      "  [52 78 60]\n",
      "  [13 56 66]\n",
      "  [ 6 73 31]\n",
      "  [66  8 84]]\n",
      "\n",
      " [[94  6 44]\n",
      "  [77 77 38]\n",
      "  [17 10 71]\n",
      "  [ 5 52 23]\n",
      "  [69 33 92]]\n",
      "\n",
      " [[18 95  5]\n",
      "  [80 16 42]\n",
      "  [19 17 36]\n",
      "  [20 84 69]\n",
      "  [90 14 55]]\n",
      "\n",
      " [[53 53 81]\n",
      "  [76 95 61]\n",
      "  [ 1 58 38]\n",
      "  [99 20 56]\n",
      "  [56 47 46]]]\n"
     ]
    }
   ],
   "source": [
    "import random\n",
    "\n",
    "matrizRandom=np.random.randint(0,100, size=(4,5,3))\n",
    "print(matrizRandom)"
   ]
  },
  {
   "cell_type": "markdown",
   "metadata": {},
   "source": [
    "## Ejercicio 19\n",
    "Crea una matriz de 10x1, toda ella compuesta por `False`. Después transformalo en un 2x5"
   ]
  },
  {
   "cell_type": "code",
   "execution_count": 261,
   "metadata": {},
   "outputs": [
    {
     "name": "stdout",
     "output_type": "stream",
     "text": [
      "[[False]\n",
      " [False]\n",
      " [False]\n",
      " [False]\n",
      " [False]\n",
      " [False]\n",
      " [False]\n",
      " [False]\n",
      " [False]\n",
      " [False]]\n",
      "----------\n",
      "[[False False False False False]\n",
      " [False False False False False]]\n"
     ]
    }
   ],
   "source": [
    "matriz10=np.full((10,1),False)\n",
    "print(matriz10)\n",
    "print(\"-\"*10)\n",
    "new_matriz10=np.reshape(matriz10,(2,5))\n",
    "print(new_matriz10)"
   ]
  },
  {
   "cell_type": "markdown",
   "metadata": {},
   "source": [
    "## Ejercicio 20\n",
    "Dado el siguiente array\n",
    "\n",
    "```Python\n",
    "x =np.random.randint(10, 20, size = (5,2,6))\n",
    "```\n",
    "\n",
    "1. ¿Cuántos elementos tiene el array?\n",
    "2. ¿Cuántas dimensiones?\n",
    "3. ¿Cuántos elementos tiene cada dimensión?"
   ]
  },
  {
   "cell_type": "code",
   "execution_count": 271,
   "metadata": {},
   "outputs": [
    {
     "name": "stdout",
     "output_type": "stream",
     "text": [
      "60\n",
      "3\n",
      "(5, 2, 6)\n",
      "Dimensión 0, son los bloques, tiene 5 elementos.\n",
      "Dimensión 1, son las filas, tiene 2 elementos.\n",
      "Dimensión 2, son las columnas, tiene 6 elementos.\n"
     ]
    }
   ],
   "source": [
    "#1. 60 elementos. 5 x 2 x 6\n",
    "x =np.random.randint(10, 20, size = (5,2,6))\n",
    "print(x.size)\n",
    "#2. 3 dimensiones\n",
    "print(x.ndim)\n",
    "#3.\n",
    "print(x.shape)\n",
    "print(\"Dimensión 0, son los bloques, tiene 5 elementos.\\nDimensión 1, son las filas, tiene 2 elementos.\\nDimensión 2, son las columnas, tiene 6 elementos.\")\n"
   ]
  },
  {
   "cell_type": "code",
   "execution_count": null,
   "metadata": {},
   "outputs": [],
   "source": []
  },
  {
   "cell_type": "code",
   "execution_count": null,
   "metadata": {},
   "outputs": [],
   "source": []
  },
  {
   "cell_type": "code",
   "execution_count": null,
   "metadata": {},
   "outputs": [],
   "source": []
  },
  {
   "cell_type": "code",
   "execution_count": null,
   "metadata": {},
   "outputs": [],
   "source": []
  },
  {
   "cell_type": "code",
   "execution_count": null,
   "metadata": {},
   "outputs": [],
   "source": []
  },
  {
   "cell_type": "code",
   "execution_count": null,
   "metadata": {},
   "outputs": [],
   "source": []
  },
  {
   "cell_type": "code",
   "execution_count": null,
   "metadata": {},
   "outputs": [],
   "source": []
  },
  {
   "cell_type": "code",
   "execution_count": null,
   "metadata": {},
   "outputs": [],
   "source": []
  },
  {
   "cell_type": "code",
   "execution_count": null,
   "metadata": {},
   "outputs": [],
   "source": []
  },
  {
   "cell_type": "code",
   "execution_count": null,
   "metadata": {},
   "outputs": [],
   "source": []
  }
 ],
 "metadata": {
  "kernelspec": {
   "display_name": "Python 3 (ipykernel)",
   "language": "python",
   "name": "python3"
  },
  "language_info": {
   "codemirror_mode": {
    "name": "ipython",
    "version": 3
   },
   "file_extension": ".py",
   "mimetype": "text/x-python",
   "name": "python",
   "nbconvert_exporter": "python",
   "pygments_lexer": "ipython3",
   "version": "3.9.7"
  },
  "vscode": {
   "interpreter": {
    "hash": "252189e587d1e2aeba4a06e91fa71896c7a7f6e22e918b9407c7cde4ef2d5985"
   }
  }
 },
 "nbformat": 4,
 "nbformat_minor": 4
}
