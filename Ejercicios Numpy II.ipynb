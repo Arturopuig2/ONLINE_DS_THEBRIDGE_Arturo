{
 "cells": [
  {
   "cell_type": "markdown",
   "metadata": {},
   "source": [
    "![imagen](./img/ejercicios.png)"
   ]
  },
  {
   "cell_type": "markdown",
   "metadata": {},
   "source": [
    "## Ejercicio 1\n",
    "1. Crea un array que vaya del 0 al 9 y que se llame `my_array`\n",
    "2. Imprime por pantalla los elementos [9 7 5 3 1] en ese orden."
   ]
  },
  {
   "cell_type": "code",
   "execution_count": 30,
   "metadata": {},
   "outputs": [
    {
     "name": "stdout",
     "output_type": "stream",
     "text": [
      "[0 1 2 3 4 5 6 7 8 9]\n",
      "[9 7 5 3 1]\n"
     ]
    }
   ],
   "source": [
    "import numpy as np\n",
    "my_array = np.arange(0,10,1)\n",
    "print(my_array)\n",
    "print(my_array[9:0:-2])\n"
   ]
  },
  {
   "cell_type": "markdown",
   "metadata": {},
   "source": [
    "## Ejercicio 2\n",
    "Imprime por pantalla la secuencia [8 7] del array `my_array`"
   ]
  },
  {
   "cell_type": "code",
   "execution_count": 31,
   "metadata": {},
   "outputs": [
    {
     "name": "stdout",
     "output_type": "stream",
     "text": [
      "[8 7]\n"
     ]
    }
   ],
   "source": [
    "print(my_array[8:6:-1])"
   ]
  },
  {
   "cell_type": "markdown",
   "metadata": {},
   "source": [
    "## Ejercicio 3\n",
    "Imprime por pantalla la secuencia [2 1 0] de `my_array`"
   ]
  },
  {
   "cell_type": "code",
   "execution_count": 33,
   "metadata": {},
   "outputs": [
    {
     "name": "stdout",
     "output_type": "stream",
     "text": [
      "[2 1 0]\n"
     ]
    }
   ],
   "source": [
    "print(my_array[2::-1])"
   ]
  },
  {
   "cell_type": "markdown",
   "metadata": {},
   "source": [
    "## Ejercicio 4\n",
    "1. Crea una matriz de 4x5, con una secuencia del 1 al 20\n",
    "2. Invierte totalmente la matriz. Tanto las filas, como las columnas"
   ]
  },
  {
   "cell_type": "code",
   "execution_count": 83,
   "metadata": {},
   "outputs": [
    {
     "name": "stdout",
     "output_type": "stream",
     "text": [
      "[ 1  2  3  4  5  6  7  8  9 10 11 12 13 14 15 16 17 18 19 20]\n",
      "--------------------\n",
      "[[ 1  2  3  4  5]\n",
      " [ 6  7  8  9 10]\n",
      " [11 12 13 14 15]\n",
      " [16 17 18 19 20]]\n",
      "--------------------\n",
      "[[ 1  2  3  4]\n",
      " [ 5  6  7  8]\n",
      " [ 9 10 11 12]\n",
      " [13 14 15 16]\n",
      " [17 18 19 20]]\n",
      "--------------------\n",
      "[[20 19 18 17 16]\n",
      " [15 14 13 12 11]\n",
      " [10  9  8  7  6]\n",
      " [ 5  4  3  2  1]]\n"
     ]
    }
   ],
   "source": [
    "my_matrix=np.arange(1,21,1)\n",
    "print(my_matrix)\n",
    "print(\"-\"*20)\n",
    "my_matrix4x5=np.reshape(my_matrix,(4,5))\n",
    "print(my_matrix4x5)\n",
    "print(\"-\"*20)\n",
    "my_matrix5x4=np.reshape(my_matrix,(5,4))\n",
    "print(my_matrix5x4)\n",
    "print(\"-\"*20)\n",
    "invertida = my_matrix4x5[::-1, ::-1]\n",
    "print(invertida)\n",
    "\n",
    "\n"
   ]
  },
  {
   "cell_type": "markdown",
   "metadata": {},
   "source": [
    "## Ejercicio 5\n",
    "\n",
    "Obtén el siguiente array, partiendo de la matriz del ejercicio 4\n",
    "```Python\n",
    "array([[1, 2],\n",
    "       [6, 7]])\n",
    "```"
   ]
  },
  {
   "cell_type": "code",
   "execution_count": 140,
   "metadata": {},
   "outputs": [
    {
     "name": "stdout",
     "output_type": "stream",
     "text": [
      "[ 1  2  3  4  5  6  7  8  9 10 11 12 13 14 15 16 17 18 19 20]\n",
      "[[ 1  2  3  4  5]\n",
      " [ 6  7  8  9 10]\n",
      " [11 12 13 14 15]\n",
      " [16 17 18 19 20]]\n"
     ]
    },
    {
     "data": {
      "text/plain": [
       "array([[1, 2],\n",
       "       [6, 7]])"
      ]
     },
     "execution_count": 140,
     "metadata": {},
     "output_type": "execute_result"
    }
   ],
   "source": [
    "my_matrix=np.arange(1,21,1)\n",
    "print(my_matrix)\n",
    "x=np.resize(my_matrix,(4,5))\n",
    "print(x)\n",
    "x[0:2, 0:2]"
   ]
  },
  {
   "cell_type": "markdown",
   "metadata": {},
   "source": [
    "## Ejercicio 6\n",
    "Obtén el siguiente array, partiendo de la matriz del ejercicio 4\n",
    "```Python\n",
    "array([[ 1,  3,  5],\n",
    "       [11, 13, 15]])\n",
    "```"
   ]
  },
  {
   "cell_type": "code",
   "execution_count": 149,
   "metadata": {},
   "outputs": [
    {
     "name": "stdout",
     "output_type": "stream",
     "text": [
      "[ 1  2  3  4  5  6  7  8  9 10 11 12 13 14 15 16 17 18 19 20]\n",
      "[[ 1  2  3  4  5  6  7  8  9 10]\n",
      " [11 12 13 14 15 16 17 18 19 20]]\n"
     ]
    },
    {
     "data": {
      "text/plain": [
       "array([[ 1,  3,  5],\n",
       "       [11, 13, 15]])"
      ]
     },
     "execution_count": 149,
     "metadata": {},
     "output_type": "execute_result"
    }
   ],
   "source": [
    "my_matrix=np.arange(1,21,1)\n",
    "print(my_matrix)\n",
    "x=np.resize(my_matrix,(2,10))\n",
    "print(x)\n",
    "x[:,0:5:2]\n"
   ]
  },
  {
   "cell_type": "markdown",
   "metadata": {},
   "source": [
    "## Ejercicio 7\n",
    "Obtén el siguiente array, partiendo de la matriz del ejercicio 4\n",
    "```Python\n",
    "array([[ 5,  4,  3,  2,  1],\n",
    "       [10,  9,  8,  7,  6],\n",
    "       [15, 14, 13, 12, 11]])\n",
    "```"
   ]
  },
  {
   "cell_type": "code",
   "execution_count": 166,
   "metadata": {},
   "outputs": [
    {
     "name": "stdout",
     "output_type": "stream",
     "text": [
      "[ 1  2  3  4  5  6  7  8  9 10 11 12 13 14 15 16 17 18 19 20]\n",
      "[[ 1  2  3  4  5]\n",
      " [ 6  7  8  9 10]\n",
      " [11 12 13 14 15]]\n"
     ]
    },
    {
     "data": {
      "text/plain": [
       "array([[ 5,  4,  3,  2,  1],\n",
       "       [10,  9,  8,  7,  6],\n",
       "       [15, 14, 13, 12, 11]])"
      ]
     },
     "execution_count": 166,
     "metadata": {},
     "output_type": "execute_result"
    }
   ],
   "source": [
    "print(my_matrix)\n",
    "x=np.resize(my_matrix,(3,5))\n",
    "print(x)\n",
    "x[0:3:1,::-1]"
   ]
  },
  {
   "cell_type": "markdown",
   "metadata": {},
   "source": [
    "## Ejercicio 8\n",
    "Dado el siguiente array:\n",
    "\n",
    "```Python\n",
    "x = np.array([\"Loro\", \"Perro\", \"Gato\", \"Loro\", \"Perro\"])\n",
    "```\n",
    "\n",
    "Filtra el array para quedarte únicamente con los loros.\n",
    "\n",
    "Resuélvelo de dos maneras diferentes"
   ]
  },
  {
   "cell_type": "code",
   "execution_count": null,
   "metadata": {},
   "outputs": [],
   "source": [
    "x = np.array([\"Loro\", \"Perro\", \"Gato\", \"Loro\", \"Perro\"])\n",
    "\n",
    "filtro = (x==\"Loro\")\n",
    "resultado=x[filtro]\n",
    "print(resultado)\n",
    "\n",
    "filtro2=np.where(x==\"Loro\")\n",
    "print(x[filtro2])\n"
   ]
  },
  {
   "cell_type": "markdown",
   "metadata": {},
   "source": [
    "## Ejercicio 9\n",
    "Crea una secuencia de 20 elementos y transformala en un array compuesto por 2 matrices de 5x2"
   ]
  },
  {
   "cell_type": "code",
   "execution_count": 197,
   "metadata": {},
   "outputs": [
    {
     "name": "stdout",
     "output_type": "stream",
     "text": [
      "[ 0  1  2  3  4  5  6  7  8  9 10 11 12 13 14 15 16 17 18 19]\n",
      "[[[ 0  1]\n",
      "  [ 2  3]\n",
      "  [ 4  5]\n",
      "  [ 6  7]\n",
      "  [ 8  9]]\n",
      "\n",
      " [[10 11]\n",
      "  [12 13]\n",
      "  [14 15]\n",
      "  [16 17]\n",
      "  [18 19]]]\n"
     ]
    }
   ],
   "source": [
    "my_secuence=np.arange(20)\n",
    "print(my_secuence)\n",
    "my_matrix=np.reshape(my_secuence,(2,5,2))\n",
    "print(my_matrix)"
   ]
  },
  {
   "cell_type": "markdown",
   "metadata": {},
   "source": [
    "## Ejercicio 10\n",
    "Obtén el siguiente array, partiendo de la matriz del ejercicio 4\n",
    "```Python\n",
    "array([[20, 19, 18, 17, 16],\n",
    "       [15, 14, 13, 12, 11],\n",
    "       [10,  9,  8,  7,  6],\n",
    "       [ 5,  4,  3,  2,  1]])\n",
    "```"
   ]
  },
  {
   "cell_type": "code",
   "execution_count": 204,
   "metadata": {},
   "outputs": [
    {
     "name": "stdout",
     "output_type": "stream",
     "text": [
      "[ 1  2  3  4  5  6  7  8  9 10 11 12 13 14 15 16 17 18 19 20]\n",
      "[[ 1  2  3  4  5]\n",
      " [ 6  7  8  9 10]\n",
      " [11 12 13 14 15]\n",
      " [16 17 18 19 20]]\n"
     ]
    },
    {
     "data": {
      "text/plain": [
       "array([[20, 19, 18, 17, 16],\n",
       "       [15, 14, 13, 12, 11],\n",
       "       [10,  9,  8,  7,  6],\n",
       "       [ 5,  4,  3,  2,  1]])"
      ]
     },
     "execution_count": 204,
     "metadata": {},
     "output_type": "execute_result"
    }
   ],
   "source": [
    "my_matrix=np.arange(1,21,1)\n",
    "print(my_matrix)\n",
    "\n",
    "x=np.resize(my_matrix,(4,5))\n",
    "print(x)\n",
    "x[::-1,::-1]\n"
   ]
  },
  {
   "cell_type": "markdown",
   "metadata": {},
   "source": [
    "## Ejercicio 11\n",
    "Crea un array de 10 0s. ¿Cuánto ocupa en memoria?\n",
    "\n",
    "Sustituye el 4to elemento por 1, e imprime el array por pantalla"
   ]
  },
  {
   "cell_type": "code",
   "execution_count": 229,
   "metadata": {},
   "outputs": [
    {
     "name": "stdout",
     "output_type": "stream",
     "text": [
      "['O' 'O' 'O' 'O' 'O' 'O' 'O' 'O' 'O' 'O']\n",
      "40\n"
     ]
    }
   ],
   "source": [
    "mi_array=np.full(10,\"O\")\n",
    "print(mi_array)\n",
    "print((mi_array.nbytes))\n"
   ]
  },
  {
   "cell_type": "markdown",
   "metadata": {},
   "source": [
    "## Ejercicio 12\n",
    "Crea un vector que vaya del 10 al 49\n",
    "\n",
    "Inviértelo"
   ]
  },
  {
   "cell_type": "code",
   "execution_count": 236,
   "metadata": {},
   "outputs": [
    {
     "name": "stdout",
     "output_type": "stream",
     "text": [
      "[10 11 12 13 14 15 16 17 18 19 20 21 22 23 24 25 26 27 28 29 30 31 32 33\n",
      " 34 35 36 37 38 39 40 41 42 43 44 45 46 47 48 49]\n",
      "[49 48 47 46 45 44 43 42 41 40 39 38 37 36 35 34 33 32 31 30 29 28 27 26\n",
      " 25 24 23 22 21 20 19 18 17 16 15 14 13 12 11 10]\n"
     ]
    }
   ],
   "source": [
    "vector=np.arange(10,50,1)\n",
    "print(vector)\n",
    "print(vector[::-1])"
   ]
  },
  {
   "cell_type": "markdown",
   "metadata": {},
   "source": [
    "## Ejericio 13\n",
    "Encuentra los indices de los valores que no sean 0 del siguiente vector [1,2,0,0,4,0]. El output sería [0, 1, 4]. [Encuentra el método apropiado en la documentación.](https://numpy.org/doc/)"
   ]
  },
  {
   "cell_type": "code",
   "execution_count": 246,
   "metadata": {},
   "outputs": [
    {
     "name": "stdout",
     "output_type": "stream",
     "text": [
      "(array([0, 1, 4]),)\n"
     ]
    }
   ],
   "source": [
    "vector=np.array([1,2,0,0,4,0])\n",
    "filtro=np.where(vector!=0)\n",
    "print(filtro)"
   ]
  },
  {
   "cell_type": "markdown",
   "metadata": {},
   "source": [
    "## Ejercicio 14\n",
    "Crea una matriz de numeros aleatorios 10x10. Encuentra los valores mínimo y máximo."
   ]
  },
  {
   "cell_type": "code",
   "execution_count": 258,
   "metadata": {},
   "outputs": [
    {
     "name": "stdout",
     "output_type": "stream",
     "text": [
      "[[4 3 2 3 3 0 8 1 3 9]\n",
      " [8 5 1 2 2 3 7 3 5 5]\n",
      " [9 7 3 3 5 0 3 9 8 2]\n",
      " [0 2 9 7 2 6 0 7 0 4]\n",
      " [3 3 5 3 0 0 2 0 5 0]\n",
      " [1 1 2 8 7 2 4 4 2 3]\n",
      " [8 7 8 7 8 8 6 9 2 0]\n",
      " [7 2 2 2 9 9 4 1 4 7]\n",
      " [4 8 8 3 6 6 9 4 8 0]\n",
      " [1 0 1 9 8 3 2 6 3 5]]\n",
      "Número máximo:= 9\n",
      "Número mínimo:= 0\n"
     ]
    }
   ],
   "source": [
    "import random\n",
    "aleatorios=np.random.randint(10,size=(10,10))\n",
    "print(aleatorios)\n",
    "max=np.max(aleatorios)\n",
    "print(f\"Número máximo:= {max}\")\n",
    "min=np.min(aleatorios)\n",
    "print(f\"Número mínimo:= {min}\")\n"
   ]
  },
  {
   "cell_type": "markdown",
   "metadata": {},
   "source": [
    "## Ejercicio 15\n",
    "Crea un vector aleatorio de tamaño 30 y calcula su media"
   ]
  },
  {
   "cell_type": "code",
   "execution_count": 282,
   "metadata": {},
   "outputs": [
    {
     "name": "stdout",
     "output_type": "stream",
     "text": [
      "[97 77 81 20  1 93 18  5 90 84 43 15 53 17 66 43 50 42  8 31 21 60 77 68\n",
      " 40 83 70  9 52 17]\n",
      "48\n"
     ]
    }
   ],
   "source": [
    "vector_aleatorio=np.random.randint(0,100,size=30)\n",
    "print((vector_aleatorio))\n",
    "mean=np.mean(vector_aleatorio)\n",
    "print(round(mean))\n"
   ]
  },
  {
   "cell_type": "markdown",
   "metadata": {},
   "source": [
    "## Ejercicio 16\n",
    "Crea un array cuadrado de 2D, con las dimensiones que quiras, pero que todo el borde esté compuesto por 1s, y el interior por 0s"
   ]
  },
  {
   "cell_type": "code",
   "execution_count": null,
   "metadata": {},
   "outputs": [],
   "source": []
  },
  {
   "cell_type": "markdown",
   "metadata": {},
   "source": [
    "## Ejercicio 17\n",
    "Crea una mtriz de 8x8, y rellénala con 0s y 1s. Tienes que replicar:\n",
    "```Python\n",
    "[[0 1 0 1 0 1 0 1]\n",
    " [1 0 1 0 1 0 1 0]\n",
    " [0 1 0 1 0 1 0 1]\n",
    " [1 0 1 0 1 0 1 0]\n",
    " [0 1 0 1 0 1 0 1]\n",
    " [1 0 1 0 1 0 1 0]\n",
    " [0 1 0 1 0 1 0 1]\n",
    " [1 0 1 0 1 0 1 0]]\n",
    "```"
   ]
  },
  {
   "cell_type": "code",
   "execution_count": null,
   "metadata": {},
   "outputs": [],
   "source": []
  },
  {
   "cell_type": "markdown",
   "metadata": {},
   "source": [
    "## Ejercicio 18\n",
    "Replica la matriz del apartado anterior, pero en este caso usando [la función `tile`](https://numpy.org/doc/stable/reference/generated/numpy.tile.html)"
   ]
  },
  {
   "cell_type": "code",
   "execution_count": null,
   "metadata": {},
   "outputs": [],
   "source": []
  },
  {
   "cell_type": "markdown",
   "metadata": {},
   "source": [
    "## Ejercicio 19\n",
    "Crea una matriz aleatoria de 5x5 y estandariza sus valores. Para normalizar tienes que restar sus valores por la media(`np.mean`) y dividir el resultado por la desviación estándar(`np.std`)."
   ]
  },
  {
   "cell_type": "code",
   "execution_count": null,
   "metadata": {},
   "outputs": [],
   "source": []
  },
  {
   "cell_type": "markdown",
   "metadata": {},
   "source": [
    "## Ejercicio 20\n",
    "1. Crea una secuencia de números que vayan del 0 al 10.\n",
    "2. Crea un nuevo array, que parta del anterior, pero sustituya todos los elementos entre el 3 y el 8, por el valor -1\n",
    "3. Crea un nuevo array que niegue todos los elementos entre el 3 y el 8"
   ]
  },
  {
   "cell_type": "code",
   "execution_count": null,
   "metadata": {},
   "outputs": [],
   "source": []
  }
 ],
 "metadata": {
  "kernelspec": {
   "display_name": "Python 3",
   "language": "python",
   "name": "python3"
  },
  "language_info": {
   "codemirror_mode": {
    "name": "ipython",
    "version": 3
   },
   "file_extension": ".py",
   "mimetype": "text/x-python",
   "name": "python",
   "nbconvert_exporter": "python",
   "pygments_lexer": "ipython3",
   "version": "3.11.9"
  }
 },
 "nbformat": 4,
 "nbformat_minor": 4
}
