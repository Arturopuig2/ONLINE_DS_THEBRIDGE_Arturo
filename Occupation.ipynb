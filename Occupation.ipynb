{
 "cells": [
  {
   "cell_type": "markdown",
   "metadata": {},
   "source": [
    "# Obtén y conoce tus datos"
   ]
  },
  {
   "cell_type": "markdown",
   "metadata": {},
   "source": [
    "\n",
    "\n",
    "### 1. Importa las librerías necesarias"
   ]
  },
  {
   "cell_type": "code",
   "execution_count": 2,
   "metadata": {},
   "outputs": [],
   "source": [
    "import numpy as np\n",
    "import pandas as pd\n",
    "import random\n"
   ]
  },
  {
   "attachments": {},
   "cell_type": "markdown",
   "metadata": {},
   "source": [
    "### 2. Importa el dataset de este [enlace](https://raw.githubusercontent.com/justmarkham/DAT8/master/data/u.user) y guárdalo en una variable llamada users. Usa pd.read_csv()"
   ]
  },
  {
   "cell_type": "code",
   "execution_count": 290,
   "metadata": {},
   "outputs": [
    {
     "name": "stdout",
     "output_type": "stream",
     "text": [
      "    user_id|age|gender|occupation|zip_code\n",
      "0                  1|24|M|technician|85711\n",
      "1                       2|53|F|other|94043\n",
      "2                      3|23|M|writer|32067\n",
      "3                  4|24|M|technician|43537\n",
      "4                       5|33|F|other|15213\n",
      "..                                     ...\n",
      "938                 939|26|F|student|33319\n",
      "939           940|32|M|administrator|02215\n",
      "940                 941|20|M|student|97229\n",
      "941               942|48|F|librarian|78209\n",
      "942                 943|22|M|student|77841\n",
      "\n",
      "[943 rows x 1 columns]\n"
     ]
    }
   ],
   "source": [
    "users=pd.read_csv(\"user.csv\")\n",
    "print(users)\n"
   ]
  },
  {
   "cell_type": "markdown",
   "metadata": {},
   "source": [
    "### 3. Muestra las 25 primeros registros\n"
   ]
  },
  {
   "cell_type": "code",
   "execution_count": 291,
   "metadata": {},
   "outputs": [
    {
     "name": "stdout",
     "output_type": "stream",
     "text": [
      "   user_id|age|gender|occupation|zip_code\n",
      "1                      2|53|F|other|94043\n",
      "2                     3|23|M|writer|32067\n",
      "3                 4|24|M|technician|43537\n",
      "4                      5|33|F|other|15213\n",
      "5                  6|42|M|executive|98101\n",
      "6              7|57|M|administrator|91344\n",
      "7              8|36|M|administrator|05201\n",
      "8                    9|29|M|student|01002\n",
      "9                    10|53|M|lawyer|90703\n",
      "10                    11|39|F|other|30329\n",
      "11                    12|28|F|other|06405\n",
      "12                 13|47|M|educator|29206\n",
      "13                14|45|M|scientist|55106\n",
      "14                 15|49|F|educator|97301\n",
      "15            16|21|M|entertainment|10309\n",
      "16               17|30|M|programmer|06355\n",
      "17                    18|35|F|other|37212\n",
      "18                19|40|M|librarian|02138\n",
      "19                20|42|F|homemaker|95660\n",
      "20                   21|26|M|writer|30068\n",
      "21                   22|25|M|writer|40206\n",
      "22                   23|30|F|artist|48197\n",
      "23                   24|21|F|artist|94533\n",
      "24                 25|39|M|engineer|55107\n",
      "25                 26|49|M|engineer|21044\n"
     ]
    }
   ],
   "source": [
    "print(users[1:26:1])"
   ]
  },
  {
   "cell_type": "markdown",
   "metadata": {},
   "source": [
    "### 4. Muestra las 25 primeros registros de otra forma"
   ]
  },
  {
   "cell_type": "code",
   "execution_count": 292,
   "metadata": {},
   "outputs": [
    {
     "name": "stdout",
     "output_type": "stream",
     "text": [
      "   user_id|age|gender|occupation|zip_code\n",
      "0                 1|24|M|technician|85711\n",
      "1                      2|53|F|other|94043\n",
      "2                     3|23|M|writer|32067\n",
      "3                 4|24|M|technician|43537\n",
      "4                      5|33|F|other|15213\n",
      "5                  6|42|M|executive|98101\n",
      "6              7|57|M|administrator|91344\n",
      "7              8|36|M|administrator|05201\n",
      "8                    9|29|M|student|01002\n",
      "9                    10|53|M|lawyer|90703\n",
      "10                    11|39|F|other|30329\n",
      "11                    12|28|F|other|06405\n",
      "12                 13|47|M|educator|29206\n",
      "13                14|45|M|scientist|55106\n",
      "14                 15|49|F|educator|97301\n",
      "15            16|21|M|entertainment|10309\n",
      "16               17|30|M|programmer|06355\n",
      "17                    18|35|F|other|37212\n",
      "18                19|40|M|librarian|02138\n",
      "19                20|42|F|homemaker|95660\n",
      "20                   21|26|M|writer|30068\n",
      "21                   22|25|M|writer|40206\n",
      "22                   23|30|F|artist|48197\n",
      "23                   24|21|F|artist|94533\n",
      "24                 25|39|M|engineer|55107\n"
     ]
    }
   ],
   "source": [
    "print(users.head(25))"
   ]
  },
  {
   "cell_type": "markdown",
   "metadata": {},
   "source": [
    "### 5. Muestra los últimos 25 registros"
   ]
  },
  {
   "cell_type": "code",
   "execution_count": 293,
   "metadata": {},
   "outputs": [
    {
     "name": "stdout",
     "output_type": "stream",
     "text": [
      "    user_id|age|gender|occupation|zip_code\n",
      "938                 939|26|F|student|33319\n",
      "939           940|32|M|administrator|02215\n",
      "940                 941|20|M|student|97229\n",
      "941               942|48|F|librarian|78209\n",
      "942                 943|22|M|student|77841\n",
      "    user_id|age|gender|occupation|zip_code\n",
      "938                 939|26|F|student|33319\n",
      "939           940|32|M|administrator|02215\n",
      "940                 941|20|M|student|97229\n",
      "941               942|48|F|librarian|78209\n",
      "942                 943|22|M|student|77841\n",
      "    user_id|age|gender|occupation|zip_code\n",
      "938                 939|26|F|student|33319\n",
      "939           940|32|M|administrator|02215\n",
      "940                 941|20|M|student|97229\n",
      "941               942|48|F|librarian|78209\n",
      "942                 943|22|M|student|77841\n"
     ]
    }
   ],
   "source": [
    "print(users.tail(5))\n",
    "print(users.iloc[-5:])\n",
    "print(users[-5:])"
   ]
  },
  {
   "cell_type": "markdown",
   "metadata": {},
   "source": [
    "### 6. Cuántos registros hay en total en este dataset?\n",
    "Resuélvelo de al menos dos formas diferentes"
   ]
  },
  {
   "cell_type": "code",
   "execution_count": 294,
   "metadata": {},
   "outputs": [
    {
     "name": "stdout",
     "output_type": "stream",
     "text": [
      "user_id|age|gender|occupation|zip_code    943\n",
      "dtype: int64\n",
      "943\n"
     ]
    }
   ],
   "source": [
    "print(users.count())\n",
    "print(len(users))"
   ]
  },
  {
   "cell_type": "markdown",
   "metadata": {},
   "source": [
    "### 7. Cuántas columnas hay en total en este dataset?\n",
    "Resuélvelo de al menos dos formas diferentes"
   ]
  },
  {
   "cell_type": "code",
   "execution_count": 295,
   "metadata": {},
   "outputs": [
    {
     "name": "stdout",
     "output_type": "stream",
     "text": [
      "1\n"
     ]
    }
   ],
   "source": [
    "print(users.shape[1])"
   ]
  },
  {
   "cell_type": "code",
   "execution_count": 296,
   "metadata": {},
   "outputs": [
    {
     "name": "stdout",
     "output_type": "stream",
     "text": [
      "5\n"
     ]
    }
   ],
   "source": [
    "users2 = pd.read_csv('user.csv', sep='|')\n",
    "users2.to_csv('user_comas.csv', sep=',', index=False)\n",
    "print(users2.shape[1])"
   ]
  },
  {
   "cell_type": "markdown",
   "metadata": {},
   "source": [
    "### 8. Haz un print de cada uno de los nombres de las columnas"
   ]
  },
  {
   "cell_type": "code",
   "execution_count": 297,
   "metadata": {},
   "outputs": [
    {
     "name": "stdout",
     "output_type": "stream",
     "text": [
      "Index(['user_id', 'age', 'gender', 'occupation', 'zip_code'], dtype='object')\n",
      "--------\n",
      "user_id\n",
      "age\n",
      "gender\n",
      "occupation\n",
      "zip_code\n",
      "--------\n",
      "0 user_id\n",
      "1 age\n",
      "2 gender\n",
      "3 occupation\n",
      "4 zip_code\n",
      "--------\n"
     ]
    }
   ],
   "source": [
    "print(users2.columns)\n",
    "print(\"--------\")\n",
    "for columna in users2.columns:\n",
    "    print(columna)\n",
    "print(\"--------\")\n",
    "for indice, columna in enumerate(users2.columns):\n",
    "    print(indice,columna)\n",
    "print(\"--------\")\n"
   ]
  },
  {
   "cell_type": "markdown",
   "metadata": {},
   "source": [
    "### 9. Accede al índice, a los nombres de las columnas y a los valores por separado"
   ]
  },
  {
   "cell_type": "code",
   "execution_count": 298,
   "metadata": {},
   "outputs": [
    {
     "name": "stdout",
     "output_type": "stream",
     "text": [
      "RangeIndex(start=0, stop=943, step=1)\n",
      "--------\n",
      "user_id\n",
      "age\n",
      "gender\n",
      "occupation\n",
      "zip_code\n",
      "--------\n",
      "Index(['user_id', 'age', 'gender', 'occupation', 'zip_code'], dtype='object')\n",
      "--------\n",
      "[[1 24 'M' 'technician' '85711']\n",
      " [2 53 'F' 'other' '94043']\n",
      " [3 23 'M' 'writer' '32067']\n",
      " ...\n",
      " [941 20 'M' 'student' '97229']\n",
      " [942 48 'F' 'librarian' '78209']\n",
      " [943 22 'M' 'student' '77841']]\n",
      "--------\n",
      "   user_id  age gender  occupation zip_code\n",
      "1        2   53      F       other    94043\n",
      "2        3   23      M      writer    32067\n",
      "3        4   24      M  technician    43537\n",
      "4        5   33      F       other    15213\n"
     ]
    }
   ],
   "source": [
    "#users2.index\n",
    "#users2.columns\n",
    "print(users2.index)\n",
    "print(\"--------\")\n",
    "\n",
    "for i,columna in enumerate(users2):\n",
    "    print(columna)\n",
    "print(\"--------\")\n",
    "\n",
    "print(users2.columns)\n",
    "print(\"--------\")\n",
    "\n",
    "print(users2.values)\n",
    "print(\"--------\")\n",
    "\n",
    "print(users2[1:5])\n",
    "\n"
   ]
  },
  {
   "cell_type": "markdown",
   "metadata": {},
   "source": [
    "### 10. Cuál es el tipo de cada columna del dataset?\n",
    "Hazlo de dos formas diferentes"
   ]
  },
  {
   "cell_type": "code",
   "execution_count": 299,
   "metadata": {},
   "outputs": [
    {
     "name": "stdout",
     "output_type": "stream",
     "text": [
      "int64\n",
      "int64\n",
      "object\n",
      "object\n",
      "object\n",
      "user_id        int64\n",
      "age            int64\n",
      "gender        object\n",
      "occupation    object\n",
      "zip_code      object\n",
      "dtype: object\n"
     ]
    }
   ],
   "source": [
    "print(users2['user_id'].dtype)\n",
    "print(users2['age'].dtype)\n",
    "print(users2['gender'].dtype)\n",
    "print(users2['occupation'].dtype)\n",
    "print(users2['zip_code'].dtype)\n",
    "\n",
    "print(users2.dtypes)\n"
   ]
  },
  {
   "cell_type": "markdown",
   "metadata": {},
   "source": [
    "### 11. Haz un print solo de la columna de occupation\n",
    "Hazlo de dos formas diferentes"
   ]
  },
  {
   "cell_type": "markdown",
   "metadata": {},
   "source": [
    "### 12. ¿Cuántas profesiones diferentes hay? ¿Y personas por profesión?"
   ]
  },
  {
   "cell_type": "code",
   "execution_count": 300,
   "metadata": {},
   "outputs": [
    {
     "name": "stdout",
     "output_type": "stream",
     "text": [
      "TOTAL PROFESIONES: 21\n",
      "occupation\n",
      "student          196\n",
      "other            105\n",
      "educator          95\n",
      "administrator     79\n",
      "engineer          67\n",
      "programmer        66\n",
      "librarian         51\n",
      "writer            45\n",
      "executive         32\n",
      "scientist         31\n",
      "artist            28\n",
      "technician        27\n",
      "marketing         26\n",
      "entertainment     18\n",
      "healthcare        16\n",
      "retired           14\n",
      "lawyer            12\n",
      "salesman          12\n",
      "none               9\n",
      "homemaker          7\n",
      "doctor             7\n",
      "Name: count, dtype: int64\n"
     ]
    }
   ],
   "source": [
    "#print(users2['occupation'].count())\n",
    "print(f\"TOTAL PROFESIONES: {users2['occupation'].nunique()}\")\n",
    "print(users2['occupation'].value_counts())"
   ]
  },
  {
   "cell_type": "markdown",
   "metadata": {},
   "source": [
    "### 13. ¿Cuál es la profesión más común?"
   ]
  },
  {
   "cell_type": "code",
   "execution_count": 301,
   "metadata": {},
   "outputs": [
    {
     "name": "stdout",
     "output_type": "stream",
     "text": [
      "student\n",
      "student\n",
      "student\n"
     ]
    }
   ],
   "source": [
    "print(users2['occupation'].value_counts().idxmax())\n",
    "\n",
    "df=users2['occupation'].value_counts().idxmax()\n",
    "print(df)\n",
    "\n",
    "df=users2['occupation'].value_counts()\n",
    "print(df.idxmax())\n"
   ]
  },
  {
   "attachments": {},
   "cell_type": "markdown",
   "metadata": {},
   "source": [
    "### 14. Obtén un resumen de las principales medidas estadísticas de las variables numéricas.  Usa describe()"
   ]
  },
  {
   "cell_type": "code",
   "execution_count": 302,
   "metadata": {},
   "outputs": [
    {
     "name": "stdout",
     "output_type": "stream",
     "text": [
      "       user_id     age\n",
      "count   943.00  943.00\n",
      "mean    472.00   34.05\n",
      "std     272.36   12.19\n",
      "min       1.00    7.00\n",
      "25%     236.50   25.00\n",
      "50%     472.00   31.00\n",
      "75%     707.50   43.00\n",
      "max     943.00   73.00\n"
     ]
    }
   ],
   "source": [
    "users2_numericas = users2.select_dtypes(include='number')\n",
    "print(users2_numericas.describe().round(2))"
   ]
  },
  {
   "attachments": {},
   "cell_type": "markdown",
   "metadata": {},
   "source": [
    "### 15. Obtén un resumen de las principales medidas estadísticas de todas las variables.  Usa describe()"
   ]
  },
  {
   "cell_type": "code",
   "execution_count": 303,
   "metadata": {},
   "outputs": [
    {
     "name": "stdout",
     "output_type": "stream",
     "text": [
      "          user_id         age\n",
      "count  943.000000  943.000000\n",
      "mean   472.000000   34.051962\n",
      "std    272.364951   12.192740\n",
      "min      1.000000    7.000000\n",
      "25%    236.500000   25.000000\n",
      "50%    472.000000   31.000000\n",
      "75%    707.500000   43.000000\n",
      "max    943.000000   73.000000\n"
     ]
    }
   ],
   "source": [
    "print(users2.describe())"
   ]
  },
  {
   "cell_type": "markdown",
   "metadata": {},
   "source": [
    "### 16. Obtén un resumen de las principales medidas estadísticas de solo la columna occupation.  Usa describe()"
   ]
  },
  {
   "cell_type": "code",
   "execution_count": 304,
   "metadata": {},
   "outputs": [
    {
     "data": {
      "text/plain": [
       "count         943\n",
       "unique         21\n",
       "top       student\n",
       "freq          196\n",
       "Name: occupation, dtype: object"
      ]
     },
     "execution_count": 304,
     "metadata": {},
     "output_type": "execute_result"
    }
   ],
   "source": [
    "users2[\"occupation\"].describe()"
   ]
  },
  {
   "cell_type": "markdown",
   "metadata": {},
   "source": [
    "### 17. ¿Cuál es la edad media?"
   ]
  },
  {
   "cell_type": "code",
   "execution_count": 305,
   "metadata": {},
   "outputs": [
    {
     "name": "stdout",
     "output_type": "stream",
     "text": [
      "31.0\n"
     ]
    }
   ],
   "source": [
    "users2[\"age\"]\n",
    "edad_media=users2.age.median()\n",
    "print(edad_media)\n"
   ]
  },
  {
   "cell_type": "markdown",
   "metadata": {},
   "source": [
    "### 18. ¿Cuál es la edad menos frecuente?"
   ]
  },
  {
   "cell_type": "code",
   "execution_count": 306,
   "metadata": {},
   "outputs": [
    {
     "name": "stdout",
     "output_type": "stream",
     "text": [
      "age\n",
      "30    39\n",
      "25    38\n",
      "22    37\n",
      "28    36\n",
      "27    35\n",
      "      ..\n",
      "7      1\n",
      "66     1\n",
      "11     1\n",
      "10     1\n",
      "73     1\n",
      "Name: count, Length: 61, dtype: int64\n",
      "7\n"
     ]
    }
   ],
   "source": [
    "print(users2['age'].value_counts())\n",
    "print(users2['age'].value_counts().idxmin())\n"
   ]
  }
 ],
 "metadata": {
  "anaconda-cloud": {},
  "kernelspec": {
   "display_name": "Python 3",
   "language": "python",
   "name": "python3"
  },
  "language_info": {
   "codemirror_mode": {
    "name": "ipython",
    "version": 3
   },
   "file_extension": ".py",
   "mimetype": "text/x-python",
   "name": "python",
   "nbconvert_exporter": "python",
   "pygments_lexer": "ipython3",
   "version": "3.11.9"
  }
 },
 "nbformat": 4,
 "nbformat_minor": 4
}
